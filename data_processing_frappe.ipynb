{
 "cells": [
  {
   "cell_type": "code",
   "execution_count": 1,
   "metadata": {},
   "outputs": [],
   "source": [
    "import pandas as pd\n",
    "import numpy as np\n",
    "from surprise import NormalPredictor\n",
    "from surprise import Dataset\n",
    "from surprise import Reader\n",
    "from surprise.model_selection import cross_validate\n",
    "from surprise import SVD\n",
    "from surprise import SVDpp\n",
    "from surprise import Dataset\n",
    "from surprise.model_selection import GridSearchCV\n",
    "from sklearn.preprocessing import normalize\n",
    "import scipy.cluster.hierarchy as shc\n",
    "import matplotlib.pyplot as plt\n",
    "from sklearn.cluster import AgglomerativeClustering\n",
    "import math\n",
    "from sklearn.model_selection import train_test_split\n",
    "from sklearn.preprocessing import LabelEncoder \n",
    "from collections import defaultdict\n",
    "import torch\n",
    "from torch import nn\n",
    "from scipy.sparse import rand as sprand\n",
    "from sklearn.preprocessing import LabelEncoder"
   ]
  },
  {
   "cell_type": "code",
   "execution_count": 3,
   "metadata": {},
   "outputs": [],
   "source": [
    "def trans_frame(df,k):\n",
    "    x = 0\n",
    "    for col in df.columns[k:]:\n",
    "        num = len(df[col].value_counts())\n",
    "        le = LabelEncoder()\n",
    "        y = le.fit_transform(df[col])\n",
    "        df[col] = y\n",
    "        df[col] = df[col] + x\n",
    "        x += num\n",
    "    return df"
   ]
  },
  {
   "cell_type": "code",
   "execution_count": 4,
   "metadata": {},
   "outputs": [],
   "source": [
    "import pandas as pd\n",
    "import numpy as np\n",
    "from sklearn.preprocessing import LabelEncoder \n",
    "df = pd.read_csv('frappe.csv', sep=\"\\t\")\n",
    "meta_app = pd.read_csv('meta.csv', sep=\"\\t\")"
   ]
  },
  {
   "cell_type": "code",
   "execution_count": 5,
   "metadata": {},
   "outputs": [],
   "source": [
    "df = pd.read_csv('frappe.csv', sep=\"\\t\")\n",
    "meta_app = pd.read_csv('meta.csv', sep=\"\\t\")\n",
    "df_context = df.copy()\n",
    "del df_context['cost']\n",
    "df_context['cnt'] = df['cnt'].astype('float')\n",
    "# transformation of the number of interactions by log\n",
    "df_context['cnt'] = df_context['cnt'].apply(np.log10)\n",
    "a = df_context['user'].value_counts()[df_context['user'].value_counts() >= 10] ## Here we apply the 10-core setting to ensure the quality of the dataset\n",
    "df_context = df_context[df_context['user'].isin(list(a.index))]\n",
    "# Here we filter out the items that are excluded by the 10-core setting\n",
    "meta_app = meta_app[meta_app['item'].isin(\n",
    "    list(set(df_context['item'].values)))]"
   ]
  },
  {
   "cell_type": "code",
   "execution_count": 6,
   "metadata": {},
   "outputs": [],
   "source": [
    "le = LabelEncoder()\n",
    "b = le.fit_transform(meta_app['item'])\n",
    "i = meta_app['item'].values\n",
    "dict_co = dict(zip(i, b))\n",
    "df_context['item'] = df_context['item'].map(dict_co)\n",
    "meta_app['item'] = b\n",
    "b = le.fit_transform(df_context['user'])\n",
    "df_context['user'] = b\n",
    "\n",
    "# we give index to all the contextual conditions (starting from 0)\n",
    "df_context = trans_frame(df_context, 3)"
   ]
  },
  {
   "cell_type": "code",
   "execution_count": 7,
   "metadata": {},
   "outputs": [
    {
     "name": "stderr",
     "output_type": "stream",
     "text": [
      "<ipython-input-7-3686d9a9f4cb>:3: SettingWithCopyWarning: \n",
      "A value is trying to be set on a copy of a slice from a DataFrame.\n",
      "Try using .loc[row_indexer,col_indexer] = value instead\n",
      "\n",
      "See the caveats in the documentation: https://pandas.pydata.org/pandas-docs/stable/user_guide/indexing.html#returning-a-view-versus-a-copy\n",
      "  meta_app_knowledge['price'] = np.where(meta_app_knowledge['price'] == 'Free', 'Free',\n",
      "<ipython-input-7-3686d9a9f4cb>:5: SettingWithCopyWarning: \n",
      "A value is trying to be set on a copy of a slice from a DataFrame\n",
      "\n",
      "See the caveats in the documentation: https://pandas.pydata.org/pandas-docs/stable/user_guide/indexing.html#returning-a-view-versus-a-copy\n",
      "  meta_app_knowledge['rating'][meta_app_knowledge['rating'] == 'unknown'] = 0\n",
      "<ipython-input-7-3686d9a9f4cb>:5: SettingWithCopyWarning: \n",
      "A value is trying to be set on a copy of a slice from a DataFrame\n",
      "\n",
      "See the caveats in the documentation: https://pandas.pydata.org/pandas-docs/stable/user_guide/indexing.html#returning-a-view-versus-a-copy\n",
      "  meta_app_knowledge['rating'][meta_app_knowledge['rating'] == 'unknown'] = 0\n",
      "<ipython-input-7-3686d9a9f4cb>:6: SettingWithCopyWarning: \n",
      "A value is trying to be set on a copy of a slice from a DataFrame.\n",
      "Try using .loc[row_indexer,col_indexer] = value instead\n",
      "\n",
      "See the caveats in the documentation: https://pandas.pydata.org/pandas-docs/stable/user_guide/indexing.html#returning-a-view-versus-a-copy\n",
      "  meta_app_knowledge['rating'] = meta_app_knowledge['rating'].astype('float')\n",
      "<ipython-input-7-3686d9a9f4cb>:7: SettingWithCopyWarning: \n",
      "A value is trying to be set on a copy of a slice from a DataFrame.\n",
      "Try using .loc[row_indexer,col_indexer] = value instead\n",
      "\n",
      "See the caveats in the documentation: https://pandas.pydata.org/pandas-docs/stable/user_guide/indexing.html#returning-a-view-versus-a-copy\n",
      "  meta_app_knowledge['rating'] = np.where(meta_app_knowledge['rating'] == 0, 'Unknown',\n",
      "<ipython-input-3-7987c68d4803>:7: SettingWithCopyWarning: \n",
      "A value is trying to be set on a copy of a slice from a DataFrame.\n",
      "Try using .loc[row_indexer,col_indexer] = value instead\n",
      "\n",
      "See the caveats in the documentation: https://pandas.pydata.org/pandas-docs/stable/user_guide/indexing.html#returning-a-view-versus-a-copy\n",
      "  df[col] = y\n",
      "<ipython-input-3-7987c68d4803>:8: SettingWithCopyWarning: \n",
      "A value is trying to be set on a copy of a slice from a DataFrame.\n",
      "Try using .loc[row_indexer,col_indexer] = value instead\n",
      "\n",
      "See the caveats in the documentation: https://pandas.pydata.org/pandas-docs/stable/user_guide/indexing.html#returning-a-view-versus-a-copy\n",
      "  df[col] = df[col] + x\n",
      "<ipython-input-3-7987c68d4803>:7: SettingWithCopyWarning: \n",
      "A value is trying to be set on a copy of a slice from a DataFrame.\n",
      "Try using .loc[row_indexer,col_indexer] = value instead\n",
      "\n",
      "See the caveats in the documentation: https://pandas.pydata.org/pandas-docs/stable/user_guide/indexing.html#returning-a-view-versus-a-copy\n",
      "  df[col] = y\n",
      "<ipython-input-3-7987c68d4803>:8: SettingWithCopyWarning: \n",
      "A value is trying to be set on a copy of a slice from a DataFrame.\n",
      "Try using .loc[row_indexer,col_indexer] = value instead\n",
      "\n",
      "See the caveats in the documentation: https://pandas.pydata.org/pandas-docs/stable/user_guide/indexing.html#returning-a-view-versus-a-copy\n",
      "  df[col] = df[col] + x\n",
      "<ipython-input-3-7987c68d4803>:7: SettingWithCopyWarning: \n",
      "A value is trying to be set on a copy of a slice from a DataFrame.\n",
      "Try using .loc[row_indexer,col_indexer] = value instead\n",
      "\n",
      "See the caveats in the documentation: https://pandas.pydata.org/pandas-docs/stable/user_guide/indexing.html#returning-a-view-versus-a-copy\n",
      "  df[col] = y\n",
      "<ipython-input-3-7987c68d4803>:8: SettingWithCopyWarning: \n",
      "A value is trying to be set on a copy of a slice from a DataFrame.\n",
      "Try using .loc[row_indexer,col_indexer] = value instead\n",
      "\n",
      "See the caveats in the documentation: https://pandas.pydata.org/pandas-docs/stable/user_guide/indexing.html#returning-a-view-versus-a-copy\n",
      "  df[col] = df[col] + x\n",
      "<ipython-input-3-7987c68d4803>:7: SettingWithCopyWarning: \n",
      "A value is trying to be set on a copy of a slice from a DataFrame.\n",
      "Try using .loc[row_indexer,col_indexer] = value instead\n",
      "\n",
      "See the caveats in the documentation: https://pandas.pydata.org/pandas-docs/stable/user_guide/indexing.html#returning-a-view-versus-a-copy\n",
      "  df[col] = y\n",
      "<ipython-input-3-7987c68d4803>:8: SettingWithCopyWarning: \n",
      "A value is trying to be set on a copy of a slice from a DataFrame.\n",
      "Try using .loc[row_indexer,col_indexer] = value instead\n",
      "\n",
      "See the caveats in the documentation: https://pandas.pydata.org/pandas-docs/stable/user_guide/indexing.html#returning-a-view-versus-a-copy\n",
      "  df[col] = df[col] + x\n",
      "<ipython-input-3-7987c68d4803>:7: SettingWithCopyWarning: \n",
      "A value is trying to be set on a copy of a slice from a DataFrame.\n",
      "Try using .loc[row_indexer,col_indexer] = value instead\n",
      "\n",
      "See the caveats in the documentation: https://pandas.pydata.org/pandas-docs/stable/user_guide/indexing.html#returning-a-view-versus-a-copy\n",
      "  df[col] = y\n",
      "<ipython-input-3-7987c68d4803>:8: SettingWithCopyWarning: \n",
      "A value is trying to be set on a copy of a slice from a DataFrame.\n",
      "Try using .loc[row_indexer,col_indexer] = value instead\n",
      "\n",
      "See the caveats in the documentation: https://pandas.pydata.org/pandas-docs/stable/user_guide/indexing.html#returning-a-view-versus-a-copy\n",
      "  df[col] = df[col] + x\n"
     ]
    }
   ],
   "source": [
    "meta_app_knowledge = meta_app[['item','category',\n",
    "                               'downloads', 'language', 'price', 'rating']]\n",
    "meta_app_knowledge['price'] = np.where(meta_app_knowledge['price'] == 'Free', 'Free',\n",
    "                                       np.where(meta_app_knowledge['price'] == 'unknown', 'Unknown', 'Paid'))\n",
    "meta_app_knowledge['rating'][meta_app_knowledge['rating'] == 'unknown'] = 0\n",
    "meta_app_knowledge['rating'] = meta_app_knowledge['rating'].astype('float')\n",
    "meta_app_knowledge['rating'] = np.where(meta_app_knowledge['rating'] == 0, 'Unknown',\n",
    "                                        np.where(meta_app_knowledge['rating'] >= 4.3, 'High_price',\n",
    "                                                 np.where(meta_app_knowledge['rating'] >= 3.8, 'Mid_price', 'Low_price')))\n",
    "\n",
    "# we give index to all attributes of items (starting from 0)\n",
    "meta_app_knowledge = trans_frame(meta_app_knowledge, 1)"
   ]
  },
  {
   "cell_type": "code",
   "execution_count": 1,
   "metadata": {},
   "outputs": [],
   "source": [
    "# hehe_test = df_context.copy()\n",
    "# df_empty = pd.DataFrame(columns=['user', 'item', 'cnt', 'daytime', 'weekday', 'isweekend', 'homework',\n",
    "#                                  'weather', 'country', 'city'])\n",
    "# user_set = set(hehe_test['user'])\n",
    "# for user in user_set:\n",
    "#     mean_rating = hehe_test[hehe_test['user'] == user]['cnt'].mean()\n",
    "#     pos_df = hehe_test[hehe_test['user'] == user]\n",
    "#     pos_df = pos_df[pos_df['cnt'] > mean_rating]\n",
    "#     pos_df = pos_df.iloc[-1:]\n",
    "#     index_to_remove = list(pos_df.iloc[-1:].index)\n",
    "#     df_empty = df_empty.append(pos_df)\n",
    "#     hehe_test = hehe_test.drop(index=index_to_remove)"
   ]
  },
  {
   "cell_type": "code",
   "execution_count": 11,
   "metadata": {},
   "outputs": [],
   "source": [
    "# hehe_test.to_csv('recsys2023/train_no.csv',index=False)\n",
    "# df_empty.to_csv('recsys2023/test_no.csv',index=False)\n",
    "# meta_app_knowledge.to_csv('recsys2023/app.csv',index = False)\n",
    "# df_context.to_csv('recsys2023/all.csv',index = False)"
   ]
  },
  {
   "cell_type": "code",
   "execution_count": 12,
   "metadata": {},
   "outputs": [
    {
     "data": {
      "text/plain": [
       "4.458668059764898"
      ]
     },
     "execution_count": 12,
     "metadata": {},
     "output_type": "execute_result"
    }
   ],
   "source": [
    "df_usable = df_context.copy()\n",
    "df_train = df_usable.sample(frac = 0.8, random_state = 0, axis = 0)\n",
    "df_rest = df_usable[~df_usable.index.isin(df_train.index)]\n",
    "df_test = df_rest.sample(frac = 0.5, random_state = 0,axis = 0)\n",
    "df_validation = df_rest[~df_rest.index.isin(df_test.index)]"
   ]
  },
  {
   "cell_type": "code",
   "execution_count": null,
   "metadata": {},
   "outputs": [],
   "source": []
  }
 ],
 "metadata": {
  "kernelspec": {
   "display_name": "Python 3",
   "language": "python",
   "name": "python3"
  },
  "language_info": {
   "codemirror_mode": {
    "name": "ipython",
    "version": 3
   },
   "file_extension": ".py",
   "mimetype": "text/x-python",
   "name": "python",
   "nbconvert_exporter": "python",
   "pygments_lexer": "ipython3",
   "version": "3.8.3"
  }
 },
 "nbformat": 4,
 "nbformat_minor": 4
}
