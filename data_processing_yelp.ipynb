{
 "cells": [
  {
   "cell_type": "code",
   "execution_count": 1,
   "metadata": {},
   "outputs": [],
   "source": [
    "from read_json import read_json # function to process data\n",
    "from sklearn.preprocessing import LabelEncoder\n",
    "import pandas as pd\n",
    "import numpy as np"
   ]
  },
  {
   "cell_type": "code",
   "execution_count": 2,
   "metadata": {},
   "outputs": [],
   "source": [
    "# hehe = read_json('yelp_academic_dataset_checkin.json')"
   ]
  },
  {
   "cell_type": "code",
   "execution_count": 3,
   "metadata": {},
   "outputs": [],
   "source": [
    "# hehe.head()"
   ]
  },
  {
   "cell_type": "code",
   "execution_count": 4,
   "metadata": {},
   "outputs": [],
   "source": [
    "df_business = read_json('yelp_academic_dataset_business.json')\n",
    "df_review = read_json('yelp_academic_dataset_review.json')"
   ]
  },
  {
   "cell_type": "code",
   "execution_count": 5,
   "metadata": {},
   "outputs": [
    {
     "data": {
      "text/plain": [
       "(6990280, 9)"
      ]
     },
     "execution_count": 5,
     "metadata": {},
     "output_type": "execute_result"
    }
   ],
   "source": [
    "df_review.shape"
   ]
  },
  {
   "cell_type": "code",
   "execution_count": 6,
   "metadata": {},
   "outputs": [],
   "source": [
    "# months = {0:'Janurary',1:'February',2:'March',3:'April',4:'May',5:'June',\n",
    "#          6:'July',7:'August',8:'September',9:'October',10:'November',11:'December'}"
   ]
  },
  {
   "cell_type": "code",
   "execution_count": 7,
   "metadata": {},
   "outputs": [],
   "source": [
    "review = df_review.rename(columns={\"stars\": \"ratings\"})\n",
    "review['date'] = pd.to_datetime(review['date'])"
   ]
  },
  {
   "cell_type": "code",
   "execution_count": 8,
   "metadata": {},
   "outputs": [],
   "source": [
    "review = review[(review['date'] > '2019-01-01') & (review['date'] < '2019-12-31')]"
   ]
  },
  {
   "cell_type": "code",
   "execution_count": 9,
   "metadata": {},
   "outputs": [
    {
     "data": {
      "text/plain": [
       "(904684, 9)"
      ]
     },
     "execution_count": 9,
     "metadata": {},
     "output_type": "execute_result"
    }
   ],
   "source": [
    "review.shape"
   ]
  },
  {
   "cell_type": "code",
   "execution_count": 10,
   "metadata": {},
   "outputs": [],
   "source": [
    "  # process date\n",
    "\n",
    "review['year'] = review['date'].dt.year\n",
    "review['month'] = review['date'].dt.month\n",
    "\n",
    "# transform to day of the week\n",
    "review['day_of_week'] = review['date'].dt.dayofweek\n",
    "review['season'] = np.where(review['month'] <= 2, 'Spring',\n",
    "                            np.where(review['month'] <= 5, 'Summer',\n",
    "                                     np.where(review['month'] <= 8, 'Automne', 'Winter')))\n",
    "#review['month'] = review['month'].map(months)\n",
    "review['is_weekend'] = np.where(review['day_of_week'] == 0, 'Monday',\n",
    "                                np.where(review['day_of_week'] == 1, 'Tuseday',\n",
    "                                         np.where(review['day_of_week'] == 2, 'Wedseday',\n",
    "                                                  np.where(review['day_of_week'] == 3, 'Thursday',\n",
    "                                                           np.where(review['day_of_week'] == 4, 'Friday',\n",
    "                                                                    np.where(review['day_of_week'] == 5, 'Saturday', 'Sunday'))))))\n",
    "review['is_weekend'] = np.where(\n",
    "    review['day_of_week'] >= 5, 'Weekend', 'Weekday')\n",
    "review['time_of_day'] = review['date'].dt.hour  # time of the day\n",
    "review['time_of_day'] = np.where(review['time_of_day'] > 21, 'Night', np.where(review['time_of_day'] > 18, 'Evening', np.where(\n",
    "    review['time_of_day'] > 14, 'Afternoon', np.where(review['time_of_day'] > 11, 'Noon', np.where(review['time_of_day'] > 8, 'Morning', 'Early_morning')))))"
   ]
  },
  {
   "cell_type": "code",
   "execution_count": 11,
   "metadata": {},
   "outputs": [
    {
     "data": {
      "text/plain": [
       "Index(['review_id', 'user_id', 'business_id', 'ratings', 'useful', 'funny',\n",
       "       'cool', 'text', 'date', 'year', 'month', 'day_of_week', 'season',\n",
       "       'is_weekend', 'time_of_day'],\n",
       "      dtype='object')"
      ]
     },
     "execution_count": 11,
     "metadata": {},
     "output_type": "execute_result"
    }
   ],
   "source": [
    "review.columns"
   ]
  },
  {
   "cell_type": "code",
   "execution_count": 12,
   "metadata": {},
   "outputs": [],
   "source": [
    "a = review['user_id'].value_counts()[review['user_id'].value_counts() >= 10]\n",
    "review = review[review['user_id'].isin(list(a.index))]"
   ]
  },
  {
   "cell_type": "code",
   "execution_count": 13,
   "metadata": {},
   "outputs": [
    {
     "data": {
      "text/plain": [
       "((150346, 14), (207017, 15))"
      ]
     },
     "execution_count": 13,
     "metadata": {},
     "output_type": "execute_result"
    }
   ],
   "source": [
    "df_business.shape,review.shape"
   ]
  },
  {
   "cell_type": "code",
   "execution_count": 14,
   "metadata": {},
   "outputs": [],
   "source": [
    "df = pd.merge(review, df_business)"
   ]
  },
  {
   "cell_type": "code",
   "execution_count": 15,
   "metadata": {},
   "outputs": [
    {
     "data": {
      "text/plain": [
       "Index(['review_id', 'user_id', 'business_id', 'ratings', 'useful', 'funny',\n",
       "       'cool', 'text', 'date', 'year', 'month', 'day_of_week', 'season',\n",
       "       'is_weekend', 'time_of_day', 'name', 'address', 'city', 'state',\n",
       "       'postal_code', 'latitude', 'longitude', 'stars', 'review_count',\n",
       "       'is_open', 'attributes', 'categories', 'hours'],\n",
       "      dtype='object')"
      ]
     },
     "execution_count": 15,
     "metadata": {},
     "output_type": "execute_result"
    }
   ],
   "source": [
    "df.columns"
   ]
  },
  {
   "cell_type": "code",
   "execution_count": 16,
   "metadata": {},
   "outputs": [],
   "source": [
    "del df['review_id']\n",
    "del df['useful']\n",
    "del df['funny']\n",
    "del df['cool']\n",
    "del df['postal_code']\n",
    "del df['latitude']\n",
    "del df['longitude']"
   ]
  },
  {
   "cell_type": "code",
   "execution_count": 17,
   "metadata": {},
   "outputs": [],
   "source": [
    "del df['name']\n",
    "del df['address']\n",
    "#del df['city']\n",
    "del df['review_count']\n",
    "del df['is_open']\n",
    "del df['attributes']\n",
    "del df['categories']\n",
    "del df['hours']"
   ]
  },
  {
   "cell_type": "code",
   "execution_count": 18,
   "metadata": {},
   "outputs": [
    {
     "data": {
      "text/plain": [
       "Index(['user_id', 'business_id', 'ratings', 'text', 'date', 'year', 'month',\n",
       "       'day_of_week', 'season', 'is_weekend', 'time_of_day', 'city', 'state',\n",
       "       'stars'],\n",
       "      dtype='object')"
      ]
     },
     "execution_count": 18,
     "metadata": {},
     "output_type": "execute_result"
    }
   ],
   "source": [
    "df.columns"
   ]
  },
  {
   "cell_type": "code",
   "execution_count": 19,
   "metadata": {},
   "outputs": [
    {
     "data": {
      "text/plain": [
       "vUrTGX_7HxqeoQ_6QCVz6g    176\n",
       "ytynqOUb3hjKeJfRj5Tshw    140\n",
       "WQ1oZ11HbYL7K7kj62ttAw    122\n",
       "_78Lam9Jd0W6ZmnHTvdjMg    121\n",
       "erBjfgY05PFI9UElgguoQQ    120\n",
       "                         ... \n",
       "QjxBDMyURV2NsvzqCu8Zqw      1\n",
       "VMWq7Dr6wC5xPkL3rEuQSw      1\n",
       "yTxUljktDCBe8UHcZTyxfQ      1\n",
       "F47i9gBPpEjxZqPNLr5oiw      1\n",
       "klpmioRcIM0CkQokBKp9zQ      1\n",
       "Name: business_id, Length: 52298, dtype: int64"
      ]
     },
     "execution_count": 19,
     "metadata": {},
     "output_type": "execute_result"
    }
   ],
   "source": [
    "df['business_id'].value_counts()"
   ]
  },
  {
   "cell_type": "code",
   "execution_count": null,
   "metadata": {
    "scrolled": true
   },
   "outputs": [],
   "source": [
    "#del df['state']\n",
    "del df['stars']"
   ]
  },
  {
   "cell_type": "code",
   "execution_count": 22,
   "metadata": {},
   "outputs": [],
   "source": [
    "df_usable = df.copy()"
   ]
  },
  {
   "cell_type": "code",
   "execution_count": 23,
   "metadata": {},
   "outputs": [
    {
     "data": {
      "text/plain": [
       "\"Best cheesesteak in the city hands down. I say this as someone who tried the meat option before I became a vegetarian and as someone who has tried their vegan friendly version. Both are delicious. Their black bean burger is one of my favorites in Philadelphia. Their egg cream is delicious. Shakes are delicious. Fries are delicious. I haven't been in too long and need to make a trip back.\""
      ]
     },
     "execution_count": 23,
     "metadata": {},
     "output_type": "execute_result"
    }
   ],
   "source": [
    "df_usable['text'][0]"
   ]
  },
  {
   "cell_type": "code",
   "execution_count": 24,
   "metadata": {},
   "outputs": [],
   "source": [
    "df_usable['Alone_Companion'] = np.where(df_usable['text'].str.contains('we|We'),'Companion','Alone')"
   ]
  },
  {
   "cell_type": "code",
   "execution_count": 25,
   "metadata": {},
   "outputs": [],
   "source": [
    "del df_usable['text']\n",
    "del df_usable['date']"
   ]
  },
  {
   "cell_type": "code",
   "execution_count": 26,
   "metadata": {},
   "outputs": [
    {
     "data": {
      "text/plain": [
       "Index(['business_id', 'name', 'address', 'city', 'state', 'postal_code',\n",
       "       'latitude', 'longitude', 'stars', 'review_count', 'is_open',\n",
       "       'attributes', 'categories', 'hours'],\n",
       "      dtype='object')"
      ]
     },
     "execution_count": 26,
     "metadata": {},
     "output_type": "execute_result"
    }
   ],
   "source": [
    "df_business.columns"
   ]
  },
  {
   "cell_type": "code",
   "execution_count": 27,
   "metadata": {},
   "outputs": [],
   "source": [
    "del df_business['name']\n",
    "del df_business['address']\n",
    "del df_business['postal_code']\n",
    "del df_business['latitude']\n",
    "del df_business['longitude']\n",
    "del df_business['hours']\n",
    "del df_business['city']\n",
    "del df_business['state']"
   ]
  },
  {
   "cell_type": "code",
   "execution_count": 28,
   "metadata": {},
   "outputs": [],
   "source": [
    "df_business = df_business[df_business['business_id'].isin(list(set(df_usable['business_id'])))]"
   ]
  },
  {
   "cell_type": "code",
   "execution_count": 29,
   "metadata": {},
   "outputs": [
    {
     "data": {
      "text/plain": [
       "11"
      ]
     },
     "execution_count": 29,
     "metadata": {},
     "output_type": "execute_result"
    }
   ],
   "source": [
    "df_business['categories'].isna().sum()"
   ]
  },
  {
   "cell_type": "code",
   "execution_count": 30,
   "metadata": {},
   "outputs": [],
   "source": [
    "del df_usable['year']"
   ]
  },
  {
   "cell_type": "code",
   "execution_count": 31,
   "metadata": {},
   "outputs": [],
   "source": [
    "del df_business['is_open']\n",
    "del df_business['attributes']\n",
    "#del df_business['categories']"
   ]
  },
  {
   "cell_type": "code",
   "execution_count": 32,
   "metadata": {},
   "outputs": [],
   "source": [
    "# df_business.to_csv('df_business.csv',index=False)\n",
    "# df_usable.to_csv('df_usable.csv',index = False)\n",
    "# df.to_csv('df.csv',index = False)"
   ]
  },
  {
   "cell_type": "code",
   "execution_count": 33,
   "metadata": {},
   "outputs": [
    {
     "data": {
      "text/html": [
       "<div>\n",
       "<style scoped>\n",
       "    .dataframe tbody tr th:only-of-type {\n",
       "        vertical-align: middle;\n",
       "    }\n",
       "\n",
       "    .dataframe tbody tr th {\n",
       "        vertical-align: top;\n",
       "    }\n",
       "\n",
       "    .dataframe thead th {\n",
       "        text-align: right;\n",
       "    }\n",
       "</style>\n",
       "<table border=\"1\" class=\"dataframe\">\n",
       "  <thead>\n",
       "    <tr style=\"text-align: right;\">\n",
       "      <th></th>\n",
       "      <th>business_id</th>\n",
       "      <th>stars</th>\n",
       "      <th>review_count</th>\n",
       "      <th>categories</th>\n",
       "    </tr>\n",
       "  </thead>\n",
       "  <tbody>\n",
       "    <tr>\n",
       "      <th>1</th>\n",
       "      <td>mpf3x-BjTdTEA3yCZrAYPw</td>\n",
       "      <td>3.0</td>\n",
       "      <td>15</td>\n",
       "      <td>Shipping Centers, Local Services, Notaries, Ma...</td>\n",
       "    </tr>\n",
       "    <tr>\n",
       "      <th>3</th>\n",
       "      <td>MTSW4McQd7CbVtyjqoe9mw</td>\n",
       "      <td>4.0</td>\n",
       "      <td>80</td>\n",
       "      <td>Restaurants, Food, Bubble Tea, Coffee &amp; Tea, B...</td>\n",
       "    </tr>\n",
       "    <tr>\n",
       "      <th>4</th>\n",
       "      <td>mWMc6_wTdE0EUBKIGXDVfA</td>\n",
       "      <td>4.5</td>\n",
       "      <td>13</td>\n",
       "      <td>Brewpubs, Breweries, Food</td>\n",
       "    </tr>\n",
       "    <tr>\n",
       "      <th>6</th>\n",
       "      <td>n_0UpQx1hsNbnPUSlodU8w</td>\n",
       "      <td>2.5</td>\n",
       "      <td>13</td>\n",
       "      <td>Sporting Goods, Fashion, Shoe Stores, Shopping...</td>\n",
       "    </tr>\n",
       "    <tr>\n",
       "      <th>10</th>\n",
       "      <td>UJsufbvfyfONHeWdvAHKjA</td>\n",
       "      <td>3.5</td>\n",
       "      <td>6</td>\n",
       "      <td>Department Stores, Shopping, Fashion</td>\n",
       "    </tr>\n",
       "  </tbody>\n",
       "</table>\n",
       "</div>"
      ],
      "text/plain": [
       "               business_id  stars  review_count  \\\n",
       "1   mpf3x-BjTdTEA3yCZrAYPw    3.0            15   \n",
       "3   MTSW4McQd7CbVtyjqoe9mw    4.0            80   \n",
       "4   mWMc6_wTdE0EUBKIGXDVfA    4.5            13   \n",
       "6   n_0UpQx1hsNbnPUSlodU8w    2.5            13   \n",
       "10  UJsufbvfyfONHeWdvAHKjA    3.5             6   \n",
       "\n",
       "                                           categories  \n",
       "1   Shipping Centers, Local Services, Notaries, Ma...  \n",
       "3   Restaurants, Food, Bubble Tea, Coffee & Tea, B...  \n",
       "4                           Brewpubs, Breweries, Food  \n",
       "6   Sporting Goods, Fashion, Shoe Stores, Shopping...  \n",
       "10               Department Stores, Shopping, Fashion  "
      ]
     },
     "execution_count": 33,
     "metadata": {},
     "output_type": "execute_result"
    }
   ],
   "source": [
    "df_business.head()"
   ]
  },
  {
   "cell_type": "code",
   "execution_count": 34,
   "metadata": {},
   "outputs": [],
   "source": [
    "def find_categories1(x):\n",
    "    if x != None:\n",
    "        return x.split(',')[0]\n",
    "    else:\n",
    "        return 'Unknown'\n",
    "    \n",
    "# def find_categories2(x):\n",
    "#     if x != None:\n",
    "#         if len(x.split(',')) == 2:\n",
    "#             return x.split(',')[1]\n",
    "#         else:\n",
    "#             return 'Unknown'\n",
    "#     else:\n",
    "#         return 'Unknown'\n",
    "\n",
    "# def find_categories3(x):\n",
    "#     if x != None:\n",
    "#         if len(x.split(',')) == 3:\n",
    "#             return x.split(',')[2]\n",
    "#         else:\n",
    "#             return 'Unknown'\n",
    "#     else:\n",
    "#         return 'Unknown'"
   ]
  },
  {
   "cell_type": "code",
   "execution_count": 35,
   "metadata": {},
   "outputs": [],
   "source": [
    "df_business['att1'] = df_business['categories'].map(find_categories1)\n",
    "# df_business['att2'] = df_business['categories'].map(find_categories2)\n",
    "# df_business['att3'] = df_business['categories'].map(find_categories3)"
   ]
  },
  {
   "cell_type": "code",
   "execution_count": null,
   "metadata": {},
   "outputs": [],
   "source": []
  },
  {
   "cell_type": "code",
   "execution_count": 36,
   "metadata": {},
   "outputs": [],
   "source": [
    "del df_business['categories']"
   ]
  },
  {
   "cell_type": "code",
   "execution_count": 37,
   "metadata": {},
   "outputs": [],
   "source": [
    "# del df_business['is_open']\n",
    "# del df_business['attributes']\n",
    "# del df_business['categories']"
   ]
  },
  {
   "cell_type": "code",
   "execution_count": 38,
   "metadata": {},
   "outputs": [],
   "source": [
    "from sklearn.preprocessing import LabelEncoder\n",
    "le = LabelEncoder()\n",
    "b = le.fit_transform(df_business['business_id'])\n",
    "i = df_business['business_id'].values\n",
    "dict_co = dict(zip(i, b))\n",
    "df_usable['business_id'] = df_usable['business_id'].map(dict_co)\n",
    "df_business['business_id'] = b"
   ]
  },
  {
   "cell_type": "code",
   "execution_count": 39,
   "metadata": {},
   "outputs": [
    {
     "data": {
      "text/plain": [
       "Restaurants             7150\n",
       "Food                    3084\n",
       "Shopping                1482\n",
       "Nightlife               1185\n",
       "Beauty & Spas           1166\n",
       "                        ... \n",
       "Web Design                 1\n",
       "Osteopaths                 1\n",
       "Country Dance Halls        1\n",
       "Georgian                   1\n",
       "Childbirth Education       1\n",
       "Name: att1, Length: 935, dtype: int64"
      ]
     },
     "execution_count": 39,
     "metadata": {},
     "output_type": "execute_result"
    }
   ],
   "source": [
    "df_business['att1'].value_counts()"
   ]
  },
  {
   "cell_type": "code",
   "execution_count": 40,
   "metadata": {},
   "outputs": [],
   "source": [
    "b = le.fit_transform(df_usable['user_id'])\n",
    "df_usable['user_id'] = b"
   ]
  },
  {
   "cell_type": "code",
   "execution_count": 41,
   "metadata": {},
   "outputs": [],
   "source": [
    "df_usable = df_usable.rename(columns = {'user_id':'user','business_id':'item','ratings':'cnt'})\n",
    "#del df_usable['text']"
   ]
  },
  {
   "cell_type": "code",
   "execution_count": 42,
   "metadata": {},
   "outputs": [],
   "source": [
    "def dataframe_trans(df_context, k):\n",
    "    x = 0\n",
    "    for col in df_context.columns[k:]:\n",
    "        num = len(df_context[col].value_counts())\n",
    "        le = LabelEncoder()\n",
    "        y = le.fit_transform(df_context[col])\n",
    "        df_context[col] = y\n",
    "        df_context[col] = df_context[col] + x\n",
    "        x += num\n",
    "    return df_context"
   ]
  },
  {
   "cell_type": "code",
   "execution_count": 43,
   "metadata": {},
   "outputs": [],
   "source": [
    "#df_usable['year'] = df_usable['year'].astype('object')\n",
    "df_usable['day_of_week'] = df_usable['day_of_week'].astype('object')\n",
    "df_usable['month'] = df_usable['month'].astype('object')"
   ]
  },
  {
   "cell_type": "code",
   "execution_count": 44,
   "metadata": {},
   "outputs": [
    {
     "data": {
      "text/plain": [
       "user                 int64\n",
       "item                 int64\n",
       "cnt                float64\n",
       "month               object\n",
       "day_of_week         object\n",
       "season              object\n",
       "is_weekend          object\n",
       "time_of_day         object\n",
       "city                object\n",
       "state               object\n",
       "Alone_Companion     object\n",
       "dtype: object"
      ]
     },
     "execution_count": 44,
     "metadata": {},
     "output_type": "execute_result"
    }
   ],
   "source": [
    "df_usable.dtypes"
   ]
  },
  {
   "cell_type": "code",
   "execution_count": 45,
   "metadata": {},
   "outputs": [],
   "source": [
    "# num = len(df_usable['month'].value_counts())\n",
    "# le = LabelEncoder()\n",
    "# y = le.fit_transform(df_usable['month'])\n",
    "# #df_context[col] = y\n",
    "# #df_context[col] = df_context[col] + x"
   ]
  },
  {
   "cell_type": "code",
   "execution_count": 46,
   "metadata": {},
   "outputs": [],
   "source": [
    "df_usable = dataframe_trans(df_usable,3)"
   ]
  },
  {
   "cell_type": "code",
   "execution_count": 47,
   "metadata": {},
   "outputs": [],
   "source": [
    "df_business['stars'] = np.where(df_business['stars'] > 4.5, 'Five_star', np.where(df_business['stars'] >=4, 'Four_star',np.where(df_business['stars'] >= 3, 'Three_star',np.where(df_business['stars'] >= 2, 'Two_star','One_star'))))"
   ]
  },
  {
   "cell_type": "code",
   "execution_count": 48,
   "metadata": {},
   "outputs": [
    {
     "data": {
      "text/plain": [
       "count    52298.000000\n",
       "mean        92.991032\n",
       "std        192.428720\n",
       "min          5.000000\n",
       "25%         16.000000\n",
       "50%         39.000000\n",
       "75%         97.000000\n",
       "max       7568.000000\n",
       "Name: review_count, dtype: float64"
      ]
     },
     "execution_count": 48,
     "metadata": {},
     "output_type": "execute_result"
    }
   ],
   "source": [
    "df_business['review_count'].describe()"
   ]
  },
  {
   "cell_type": "code",
   "execution_count": 49,
   "metadata": {},
   "outputs": [],
   "source": [
    "df_business['review_count'] = np.where(df_business['review_count'] > 97, 'High_review',np.where(df_business['review_count'] > 16, 'Mid_review','Few_review'))"
   ]
  },
  {
   "cell_type": "code",
   "execution_count": 50,
   "metadata": {},
   "outputs": [],
   "source": [
    "df_business = dataframe_trans(df_business,1)"
   ]
  },
  {
   "cell_type": "code",
   "execution_count": 51,
   "metadata": {},
   "outputs": [],
   "source": [
    "df_business.to_csv('df_business.csv',index = False)"
   ]
  },
  {
   "cell_type": "code",
   "execution_count": 52,
   "metadata": {},
   "outputs": [],
   "source": [
    "df_usable.to_csv('df_usable.csv',index=False)"
   ]
  },
  {
   "cell_type": "code",
   "execution_count": 55,
   "metadata": {},
   "outputs": [],
   "source": [
    "df_train = df_usable.sample(frac = 0.8, random_state = 0, axis = 0)\n",
    "df_rest = df_usable[~df_usable.index.isin(df_train.index)]\n",
    "df_test = df_rest.sample(frac = 0.5, random_state = 0,axis = 0)\n",
    "df_validation = df_rest[~df_rest.index.isin(df_test.index)]"
   ]
  }
 ],
 "metadata": {
  "kernelspec": {
   "display_name": "Python 3",
   "language": "python",
   "name": "python3"
  },
  "language_info": {
   "codemirror_mode": {
    "name": "ipython",
    "version": 3
   },
   "file_extension": ".py",
   "mimetype": "text/x-python",
   "name": "python",
   "nbconvert_exporter": "python",
   "pygments_lexer": "ipython3",
   "version": "3.8.3"
  },
  "toc": {
   "base_numbering": 1,
   "nav_menu": {},
   "number_sections": true,
   "sideBar": true,
   "skip_h1_title": false,
   "title_cell": "Table of Contents",
   "title_sidebar": "Contents",
   "toc_cell": false,
   "toc_position": {},
   "toc_section_display": true,
   "toc_window_display": false
  }
 },
 "nbformat": 4,
 "nbformat_minor": 4
}
